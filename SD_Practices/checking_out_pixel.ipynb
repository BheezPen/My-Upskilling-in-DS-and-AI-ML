{
 "cells": [
  {
   "cell_type": "code",
   "execution_count": 1,
   "id": "6b97eff5-2a84-4521-bc1b-ad7d356564c3",
   "metadata": {},
   "outputs": [],
   "source": [
    "#Importing Neccessary modules\n",
    "import numpy as np\n",
    "import matplotlib.pyplot as plt\n",
    "import tensorflow as tf\n",
    "from tensorflow import keras"
   ]
  },
  {
   "cell_type": "code",
   "execution_count": 14,
   "id": "803001cf-2663-42b8-8af7-5ef5012e184d",
   "metadata": {},
   "outputs": [
    {
     "data": {
      "text/html": [
       "<div>\n",
       "<style scoped>\n",
       "    .dataframe tbody tr th:only-of-type {\n",
       "        vertical-align: middle;\n",
       "    }\n",
       "\n",
       "    .dataframe tbody tr th {\n",
       "        vertical-align: top;\n",
       "    }\n",
       "\n",
       "    .dataframe thead th {\n",
       "        text-align: right;\n",
       "    }\n",
       "</style>\n",
       "<table border=\"1\" class=\"dataframe\">\n",
       "  <thead>\n",
       "    <tr style=\"text-align: right;\">\n",
       "      <th></th>\n",
       "      <th>pixel1</th>\n",
       "      <th>pixel2</th>\n",
       "      <th>pixel3</th>\n",
       "      <th>pixel4</th>\n",
       "      <th>pixel5</th>\n",
       "      <th>pixel6</th>\n",
       "      <th>pixel7</th>\n",
       "      <th>pixel8</th>\n",
       "      <th>pixel9</th>\n",
       "    </tr>\n",
       "  </thead>\n",
       "  <tbody>\n",
       "    <tr>\n",
       "      <th>0</th>\n",
       "      <td>0</td>\n",
       "      <td>100</td>\n",
       "      <td>156</td>\n",
       "      <td>200</td>\n",
       "      <td>0</td>\n",
       "      <td>254</td>\n",
       "      <td>180</td>\n",
       "      <td>110</td>\n",
       "      <td>0</td>\n",
       "    </tr>\n",
       "    <tr>\n",
       "      <th>1</th>\n",
       "      <td>254</td>\n",
       "      <td>150</td>\n",
       "      <td>70</td>\n",
       "      <td>0</td>\n",
       "      <td>70</td>\n",
       "      <td>150</td>\n",
       "      <td>254</td>\n",
       "      <td>150</td>\n",
       "      <td>70</td>\n",
       "    </tr>\n",
       "    <tr>\n",
       "      <th>2</th>\n",
       "      <td>0</td>\n",
       "      <td>100</td>\n",
       "      <td>156</td>\n",
       "      <td>200</td>\n",
       "      <td>0</td>\n",
       "      <td>254</td>\n",
       "      <td>180</td>\n",
       "      <td>110</td>\n",
       "      <td>0</td>\n",
       "    </tr>\n",
       "    <tr>\n",
       "      <th>3</th>\n",
       "      <td>254</td>\n",
       "      <td>150</td>\n",
       "      <td>70</td>\n",
       "      <td>0</td>\n",
       "      <td>70</td>\n",
       "      <td>150</td>\n",
       "      <td>254</td>\n",
       "      <td>150</td>\n",
       "      <td>70</td>\n",
       "    </tr>\n",
       "    <tr>\n",
       "      <th>4</th>\n",
       "      <td>0</td>\n",
       "      <td>100</td>\n",
       "      <td>156</td>\n",
       "      <td>200</td>\n",
       "      <td>0</td>\n",
       "      <td>254</td>\n",
       "      <td>180</td>\n",
       "      <td>110</td>\n",
       "      <td>0</td>\n",
       "    </tr>\n",
       "    <tr>\n",
       "      <th>5</th>\n",
       "      <td>254</td>\n",
       "      <td>150</td>\n",
       "      <td>70</td>\n",
       "      <td>0</td>\n",
       "      <td>70</td>\n",
       "      <td>150</td>\n",
       "      <td>254</td>\n",
       "      <td>150</td>\n",
       "      <td>70</td>\n",
       "    </tr>\n",
       "    <tr>\n",
       "      <th>6</th>\n",
       "      <td>0</td>\n",
       "      <td>100</td>\n",
       "      <td>156</td>\n",
       "      <td>200</td>\n",
       "      <td>0</td>\n",
       "      <td>254</td>\n",
       "      <td>180</td>\n",
       "      <td>110</td>\n",
       "      <td>0</td>\n",
       "    </tr>\n",
       "    <tr>\n",
       "      <th>7</th>\n",
       "      <td>254</td>\n",
       "      <td>150</td>\n",
       "      <td>70</td>\n",
       "      <td>0</td>\n",
       "      <td>70</td>\n",
       "      <td>150</td>\n",
       "      <td>254</td>\n",
       "      <td>150</td>\n",
       "      <td>70</td>\n",
       "    </tr>\n",
       "    <tr>\n",
       "      <th>8</th>\n",
       "      <td>0</td>\n",
       "      <td>100</td>\n",
       "      <td>156</td>\n",
       "      <td>200</td>\n",
       "      <td>0</td>\n",
       "      <td>254</td>\n",
       "      <td>180</td>\n",
       "      <td>110</td>\n",
       "      <td>0</td>\n",
       "    </tr>\n",
       "    <tr>\n",
       "      <th>9</th>\n",
       "      <td>254</td>\n",
       "      <td>150</td>\n",
       "      <td>70</td>\n",
       "      <td>0</td>\n",
       "      <td>70</td>\n",
       "      <td>150</td>\n",
       "      <td>254</td>\n",
       "      <td>150</td>\n",
       "      <td>70</td>\n",
       "    </tr>\n",
       "    <tr>\n",
       "      <th>10</th>\n",
       "      <td>0</td>\n",
       "      <td>100</td>\n",
       "      <td>156</td>\n",
       "      <td>200</td>\n",
       "      <td>0</td>\n",
       "      <td>254</td>\n",
       "      <td>180</td>\n",
       "      <td>110</td>\n",
       "      <td>0</td>\n",
       "    </tr>\n",
       "    <tr>\n",
       "      <th>11</th>\n",
       "      <td>254</td>\n",
       "      <td>150</td>\n",
       "      <td>70</td>\n",
       "      <td>0</td>\n",
       "      <td>70</td>\n",
       "      <td>150</td>\n",
       "      <td>254</td>\n",
       "      <td>150</td>\n",
       "      <td>70</td>\n",
       "    </tr>\n",
       "  </tbody>\n",
       "</table>\n",
       "</div>"
      ],
      "text/plain": [
       "    pixel1  pixel2  pixel3  pixel4  pixel5  pixel6  pixel7  pixel8  pixel9\n",
       "0        0     100     156     200       0     254     180     110       0\n",
       "1      254     150      70       0      70     150     254     150      70\n",
       "2        0     100     156     200       0     254     180     110       0\n",
       "3      254     150      70       0      70     150     254     150      70\n",
       "4        0     100     156     200       0     254     180     110       0\n",
       "5      254     150      70       0      70     150     254     150      70\n",
       "6        0     100     156     200       0     254     180     110       0\n",
       "7      254     150      70       0      70     150     254     150      70\n",
       "8        0     100     156     200       0     254     180     110       0\n",
       "9      254     150      70       0      70     150     254     150      70\n",
       "10       0     100     156     200       0     254     180     110       0\n",
       "11     254     150      70       0      70     150     254     150      70"
      ]
     },
     "execution_count": 14,
     "metadata": {},
     "output_type": "execute_result"
    }
   ],
   "source": [
    "import pandas as pd\n",
    "\n",
    "#mnist = keras.datasets.mnist\n",
    "data = pd.read_csv('checking_out.csv')\n",
    "data"
   ]
  },
  {
   "cell_type": "code",
   "execution_count": 12,
   "id": "a2203c6d-91f2-4eee-91c2-d943e08a60d8",
   "metadata": {},
   "outputs": [],
   "source": [
    "# WHile still exploring the datasets, this count the unique classes classified in the datasets\n",
    "# It also print the label of the classes\n",
    "#class_labels = np.unique(train_labels)\n",
    "#print(\"There are {} classes in the dataset. They are: {}\".format(len(class_labels), class_labels))"
   ]
  },
  {
   "cell_type": "code",
   "execution_count": 13,
   "id": "83124a6d-aa52-4dc4-8206-eda9fce81956",
   "metadata": {},
   "outputs": [
    {
     "ename": "KeyError",
     "evalue": "0",
     "output_type": "error",
     "traceback": [
      "\u001b[1;31m---------------------------------------------------------------------------\u001b[0m",
      "\u001b[1;31mKeyError\u001b[0m                                  Traceback (most recent call last)",
      "File \u001b[1;32mc:\\Users\\DELL\\AppData\\Local\\Programs\\Python\\Python311\\Lib\\site-packages\\pandas\\core\\indexes\\base.py:3790\u001b[0m, in \u001b[0;36mIndex.get_loc\u001b[1;34m(self, key)\u001b[0m\n\u001b[0;32m   3789\u001b[0m \u001b[38;5;28;01mtry\u001b[39;00m:\n\u001b[1;32m-> 3790\u001b[0m     \u001b[38;5;28;01mreturn\u001b[39;00m \u001b[38;5;28;43mself\u001b[39;49m\u001b[38;5;241;43m.\u001b[39;49m\u001b[43m_engine\u001b[49m\u001b[38;5;241;43m.\u001b[39;49m\u001b[43mget_loc\u001b[49m\u001b[43m(\u001b[49m\u001b[43mcasted_key\u001b[49m\u001b[43m)\u001b[49m\n\u001b[0;32m   3791\u001b[0m \u001b[38;5;28;01mexcept\u001b[39;00m \u001b[38;5;167;01mKeyError\u001b[39;00m \u001b[38;5;28;01mas\u001b[39;00m err:\n",
      "File \u001b[1;32mindex.pyx:152\u001b[0m, in \u001b[0;36mpandas._libs.index.IndexEngine.get_loc\u001b[1;34m()\u001b[0m\n",
      "File \u001b[1;32mindex.pyx:181\u001b[0m, in \u001b[0;36mpandas._libs.index.IndexEngine.get_loc\u001b[1;34m()\u001b[0m\n",
      "File \u001b[1;32mpandas\\_libs\\hashtable_class_helper.pxi:7080\u001b[0m, in \u001b[0;36mpandas._libs.hashtable.PyObjectHashTable.get_item\u001b[1;34m()\u001b[0m\n",
      "File \u001b[1;32mpandas\\_libs\\hashtable_class_helper.pxi:7088\u001b[0m, in \u001b[0;36mpandas._libs.hashtable.PyObjectHashTable.get_item\u001b[1;34m()\u001b[0m\n",
      "\u001b[1;31mKeyError\u001b[0m: 0",
      "\nThe above exception was the direct cause of the following exception:\n",
      "\u001b[1;31mKeyError\u001b[0m                                  Traceback (most recent call last)",
      "Cell \u001b[1;32mIn[13], line 9\u001b[0m\n\u001b[0;32m      5\u001b[0m \u001b[38;5;66;03m# A subplot here, a datapoint\u001b[39;00m\n\u001b[0;32m      6\u001b[0m \n\u001b[0;32m      7\u001b[0m \u001b[38;5;66;03m# Syntax is plt.subplot(num_rows, num_cols, plot_index)\u001b[39;00m\n\u001b[0;32m      8\u001b[0m plt\u001b[38;5;241m.\u001b[39msubplot(\u001b[38;5;241m1\u001b[39m,\u001b[38;5;241m3\u001b[39m,\u001b[38;5;241m1\u001b[39m) \n\u001b[1;32m----> 9\u001b[0m plt\u001b[38;5;241m.\u001b[39mimshow(\u001b[43mdata\u001b[49m\u001b[43m[\u001b[49m\u001b[38;5;241;43m0\u001b[39;49m\u001b[43m]\u001b[49m) \u001b[38;5;66;03m#datapoint of index 0 from the train_images datasets is called on\u001b[39;00m\n\u001b[0;32m     10\u001b[0m plt\u001b[38;5;241m.\u001b[39mtitle(\u001b[38;5;124m\"\u001b[39m\u001b[38;5;124mLabel: \u001b[39m\u001b[38;5;132;01m{}\u001b[39;00m\u001b[38;5;124m\"\u001b[39m\u001b[38;5;241m.\u001b[39mformat(data[\u001b[38;5;241m0\u001b[39m]))\n\u001b[0;32m     12\u001b[0m \u001b[38;5;124;03m\"\"\"#Another datapoint for another subplot\u001b[39;00m\n\u001b[0;32m     13\u001b[0m \u001b[38;5;124;03mplt.subplot(1,3,2)\u001b[39;00m\n\u001b[0;32m     14\u001b[0m \u001b[38;5;124;03mplt.imshow(train_images[2500]) #datapoint of index 2500 from the train_images datasets is called on\u001b[39;00m\n\u001b[1;32m   (...)\u001b[0m\n\u001b[0;32m     19\u001b[0m \u001b[38;5;124;03mplt.imshow(train_images[700]) #datapoint of index 2500 from the train_images datasets is called on\u001b[39;00m\n\u001b[0;32m     20\u001b[0m \u001b[38;5;124;03mplt.title(\"Label: {}\".format(train_labels[700]))\"\"\"\u001b[39;00m\n",
      "File \u001b[1;32mc:\\Users\\DELL\\AppData\\Local\\Programs\\Python\\Python311\\Lib\\site-packages\\pandas\\core\\frame.py:3896\u001b[0m, in \u001b[0;36mDataFrame.__getitem__\u001b[1;34m(self, key)\u001b[0m\n\u001b[0;32m   3894\u001b[0m \u001b[38;5;28;01mif\u001b[39;00m \u001b[38;5;28mself\u001b[39m\u001b[38;5;241m.\u001b[39mcolumns\u001b[38;5;241m.\u001b[39mnlevels \u001b[38;5;241m>\u001b[39m \u001b[38;5;241m1\u001b[39m:\n\u001b[0;32m   3895\u001b[0m     \u001b[38;5;28;01mreturn\u001b[39;00m \u001b[38;5;28mself\u001b[39m\u001b[38;5;241m.\u001b[39m_getitem_multilevel(key)\n\u001b[1;32m-> 3896\u001b[0m indexer \u001b[38;5;241m=\u001b[39m \u001b[38;5;28;43mself\u001b[39;49m\u001b[38;5;241;43m.\u001b[39;49m\u001b[43mcolumns\u001b[49m\u001b[38;5;241;43m.\u001b[39;49m\u001b[43mget_loc\u001b[49m\u001b[43m(\u001b[49m\u001b[43mkey\u001b[49m\u001b[43m)\u001b[49m\n\u001b[0;32m   3897\u001b[0m \u001b[38;5;28;01mif\u001b[39;00m is_integer(indexer):\n\u001b[0;32m   3898\u001b[0m     indexer \u001b[38;5;241m=\u001b[39m [indexer]\n",
      "File \u001b[1;32mc:\\Users\\DELL\\AppData\\Local\\Programs\\Python\\Python311\\Lib\\site-packages\\pandas\\core\\indexes\\base.py:3797\u001b[0m, in \u001b[0;36mIndex.get_loc\u001b[1;34m(self, key)\u001b[0m\n\u001b[0;32m   3792\u001b[0m     \u001b[38;5;28;01mif\u001b[39;00m \u001b[38;5;28misinstance\u001b[39m(casted_key, \u001b[38;5;28mslice\u001b[39m) \u001b[38;5;129;01mor\u001b[39;00m (\n\u001b[0;32m   3793\u001b[0m         \u001b[38;5;28misinstance\u001b[39m(casted_key, abc\u001b[38;5;241m.\u001b[39mIterable)\n\u001b[0;32m   3794\u001b[0m         \u001b[38;5;129;01mand\u001b[39;00m \u001b[38;5;28many\u001b[39m(\u001b[38;5;28misinstance\u001b[39m(x, \u001b[38;5;28mslice\u001b[39m) \u001b[38;5;28;01mfor\u001b[39;00m x \u001b[38;5;129;01min\u001b[39;00m casted_key)\n\u001b[0;32m   3795\u001b[0m     ):\n\u001b[0;32m   3796\u001b[0m         \u001b[38;5;28;01mraise\u001b[39;00m InvalidIndexError(key)\n\u001b[1;32m-> 3797\u001b[0m     \u001b[38;5;28;01mraise\u001b[39;00m \u001b[38;5;167;01mKeyError\u001b[39;00m(key) \u001b[38;5;28;01mfrom\u001b[39;00m \u001b[38;5;21;01merr\u001b[39;00m\n\u001b[0;32m   3798\u001b[0m \u001b[38;5;28;01mexcept\u001b[39;00m \u001b[38;5;167;01mTypeError\u001b[39;00m:\n\u001b[0;32m   3799\u001b[0m     \u001b[38;5;66;03m# If we have a listlike key, _check_indexing_error will raise\u001b[39;00m\n\u001b[0;32m   3800\u001b[0m     \u001b[38;5;66;03m#  InvalidIndexError. Otherwise we fall through and re-raise\u001b[39;00m\n\u001b[0;32m   3801\u001b[0m     \u001b[38;5;66;03m#  the TypeError.\u001b[39;00m\n\u001b[0;32m   3802\u001b[0m     \u001b[38;5;28mself\u001b[39m\u001b[38;5;241m.\u001b[39m_check_indexing_error(key)\n",
      "\u001b[1;31mKeyError\u001b[0m: 0"
     ]
    },
    {
     "data": {
      "image/png": "[encoded data removed]",
      "text/plain": [
       "<Figure size 1800x400 with 1 Axes>"
      ]
     },
     "metadata": {},
     "output_type": "display_data"
    }
   ],
   "source": [
    "#Plotting the datasets to see some of the data point \n",
    "# This determines the size of the shapes\n",
    "plt.figure(figsize=(18, 4))\n",
    "\n",
    "# A subplot here, a datapoint\n",
    "\n",
    "# Syntax is plt.subplot(num_rows, num_cols, plot_index)\n",
    "plt.subplot(1,1,1) \n",
    "plt.imshow(data[0]) #datapoint of index 0 from the train_images datasets is called on\n",
    "#plt.title(\"Label: {}\".format(data[0]))\n",
    "\n",
    "\"\"\"#Another datapoint for another subplot\n",
    "plt.subplot(1,3,2)\n",
    "plt.imshow(train_images[2500]) #datapoint of index 2500 from the train_images datasets is called on\n",
    "plt.title(\"Label: {}\".format(train_labels[2500]))\n",
    "\n",
    "#Another datapoint for another subplot\n",
    "plt.subplot(1,3,3)\n",
    "plt.imshow(train_images[700]) #datapoint of index 2500 from the train_images datasets is called on\n",
    "plt.title(\"Label: {}\".format(train_labels[700]))\"\"\"\n",
    "plt.colorbar()\n",
    "#Now to show my graph\n",
    "plt.show()"
   ]
  },
  {
   "cell_type": "code",
   "execution_count": 7,
   "id": "fbdc6b95-ee88-4076-bb78-1fff84f03569",
   "metadata": {},
   "outputs": [
    {
     "data": {
      "image/png": "[encoded data removed]",
      "text/plain": [
       "<Figure size 800x400 with 2 Axes>"
      ]
     },
     "metadata": {},
     "output_type": "display_data"
    }
   ],
   "source": [
    "#Viewing some testing data element\n",
    "\n",
    "plt.figure(figsize=(8,4))\n",
    "\n",
    "#Ploting a datapoint for another subplot\n",
    "\n",
    "# Syntax is plt.subplot(num_rows, num_cols, plot_index)\n",
    "plt.subplot(1,2,1)\n",
    "plt.imshow(test_images[12]) #datapoint of index 12 from the test_images datasets is called on\n",
    "\n",
    "#Another datapoint for another subplot\n",
    "plt.subplot(1,2,2)\n",
    "plt.imshow(test_images[15]) #datapoint of index 12 from the test_images datasets is called on\n",
    "\n",
    "# Now to show our plot\n",
    "plt.show()"
   ]
  },
  {
   "cell_type": "code",
   "execution_count": 15,
   "id": "831e064f-33be-4cd5-ad8a-d7fcacf283ba",
   "metadata": {},
   "outputs": [],
   "source": [
    "# After all this, next is to scale our dataset, \n",
    "\n",
    "# Since our datapoint ranges from [0,255], scaling makes it range from 0 to 1.\n",
    "# The reason is to get better flow when using our code in building the neural netowork\n",
    "# SO, we do this by dividing by the highest number in the range which is 255\n",
    "# Say we have a datapoin which is 10, we then say, 10/255 which equates to 0.392156827\n",
    "# With that, weve scaled that\n",
    "# So, lets do same for all of them\n",
    "\n",
    "# Just for last view, we would notice that the the train_images plotted above above, the scale by the side ranges from 0 to 255\n",
    "# so now, after our scaling here, it would range from 0 to 1. Let Seeee!!!!!!\n",
    "\n",
    "# For training dataset stored into the train_image variable\n",
    "train_images_scale = train_images / 255.0\n",
    "\n",
    "# For testing dataset stored into the test_image variable\n",
    "test_images_scale = test_images / 255.0\n"
   ]
  },
  {
   "cell_type": "code",
   "execution_count": 16,
   "id": "67a1e1c5-9e1b-42fc-bd07-69ec85af6887",
   "metadata": {},
   "outputs": [
    {
     "data": {
      "image/png": "[encoded data removed]",
      "text/plain": [
       "<Figure size 1000x400 with 2 Axes>"
      ]
     },
     "metadata": {},
     "output_type": "display_data"
    }
   ],
   "source": [
    "# wants to plot again after scaling\n",
    "\n",
    "plt.figure(figsize=(10,4))\n",
    "\n",
    "plt.subplot(1,1,1)\n",
    "plt.imshow(test_images_scale[12]) \n",
    "plt.colorbar()\n",
    "plt.show()\n",
    "\n",
    "# Now it's clear, the scaling by the side ranges from 0 to 1 as seen by the side"
   ]
  },
  {
   "cell_type": "code",
   "execution_count": 28,
   "id": "bf4f68c4-9cb1-4028-89e0-77f0730d4a71",
   "metadata": {},
   "outputs": [
    {
     "name": "stdout",
     "output_type": "stream",
     "text": [
      "60000\n"
     ]
    }
   ],
   "source": [
    "# Split training data to training and validation sets\n",
    "# Yes, we already split from training and testing but now, we are spliting the training set to training to validation set\n",
    "# the reason for this is to help evaluate the model during training to make some decisions, i.e while the model is still training \n",
    "# Unlike the testing that will test the model after training, validation evaluat during training \n",
    "print(len(train_images_scale))\n",
    "x_train = train_images_scale[0:50000] \n",
    "y_train = train_labels[0:50000]\n",
    "\n",
    "\n",
    "x_val = train_images_scale[50000: ] \n",
    "y_val = train_labels[50000: ]"
   ]
  },
  {
   "cell_type": "code",
   "execution_count": 34,
   "id": "6526b8ec-9fd4-4553-9974-b24dccd70bc1",
   "metadata": {},
   "outputs": [
    {
     "name": "stdout",
     "output_type": "stream",
     "text": [
      "x_train size is -  (50000, 28, 28)\n",
      "y_train size is -  (50000,)\n",
      "x_val size is -  (10000, 28, 28)\n",
      "y_val size is -  (10000,)\n",
      "test_images size is -  (10000, 28, 28)\n"
     ]
    }
   ],
   "source": [
    "# Now lets print the shape of every splitted datdset we would be using\n",
    "\n",
    "# For training dataset\n",
    "print(f'x_train size is -  {x_train.shape}')\n",
    "print(f'y_train size is -  {y_train.shape}')\n",
    "\n",
    "# For validation dataset\n",
    "print(f'x_val size is -  {x_val.shape}')\n",
    "print(f'y_val size is -  {y_val.shape}')\n",
    "\n",
    "# For testing dataset\n",
    "print(f'test_images size is -  {test_images.shape}')"
   ]
  },
  {
   "cell_type": "code",
   "execution_count": 35,
   "id": "b1ce5721-4593-4a68-9aae-45d9e9506bc7",
   "metadata": {},
   "outputs": [],
   "source": [
    "# Reshape data from 28 * 28 array to a single array\n",
    "\n",
    "new_dimension = np.prod(train_images.shape[1:])\n",
    "\n",
    "x_train = x_train.reshape(x_train.shape[0], new_dimension)\n",
    "x_val = x_val.reshape(x_val.shape[0], new_dimension)\n",
    "test_images = test_images.reshape(test_images.shape[0], new_dimension)"
   ]
  },
  {
   "cell_type": "code",
   "execution_count": null,
   "id": "16425561-38a0-4c5d-9997-86f30752c73f",
   "metadata": {},
   "outputs": [],
   "source": []
  }
 ],
 "metadata": {
  "kernelspec": {
   "display_name": "Python 3 (ipykernel)",
   "language": "python",
   "name": "python3"
  },
  "language_info": {
   "codemirror_mode": {
    "name": "ipython",
    "version": 3
   },
   "file_extension": ".py",
   "mimetype": "text/x-python",
   "name": "python",
   "nbconvert_exporter": "python",
   "pygments_lexer": "ipython3",
   "version": "3.11.5"
  }
 },
 "nbformat": 4,
 "nbformat_minor": 5
}
