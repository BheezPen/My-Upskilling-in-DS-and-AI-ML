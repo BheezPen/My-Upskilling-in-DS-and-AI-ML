{
 "cells": [
  {
   "cell_type": "code",
   "execution_count": 10,
   "id": "6b97eff5-2a84-4521-bc1b-ad7d356564c3",
   "metadata": {},
   "outputs": [],
   "source": [
    "#Importing Neccessary modules\n",
    "import numpy as np\n",
    "import matplotlib.pyplot as plt\n",
    "import tensorflow as tf\n",
    "from tensorflow import keras"
   ]
  },
  {
   "cell_type": "code",
   "execution_count": 11,
   "id": "803001cf-2663-42b8-8af7-5ef5012e184d",
   "metadata": {},
   "outputs": [
    {
     "name": "stdout",
     "output_type": "stream",
     "text": [
      "Downloading data from https://storage.googleapis.com/tensorflow/tf-keras-datasets/mnist.npz\n",
      "11490434/11490434 [==============================] - 17s 1us/step\n"
     ]
    }
   ],
   "source": [
    "mnist = keras.datasets.mnist\n",
    "(train_images, train_labels), (test_images, test_labels) = mnist.load_data()"
   ]
  },
  {
   "cell_type": "code",
   "execution_count": 12,
   "id": "4c7e1753-0c8c-4a8a-a6b8-48c83c712d5c",
   "metadata": {},
   "outputs": [
    {
     "name": "stdout",
     "output_type": "stream",
     "text": [
      "Training data: (60000, 28, 28), (60000,)\n"
     ]
    }
   ],
   "source": [
    "# Exploring the training datasets, it should print the shape of the images datasets and the label of the datasets.\n",
    "print(\"Training data: {}, {}\".format(train_images.shape, train_labels.shape))"
   ]
  },
  {
   "cell_type": "code",
   "execution_count": 13,
   "id": "b75f8e68-fe18-4063-938e-d49f9d9ce4c9",
   "metadata": {},
   "outputs": [
    {
     "name": "stdout",
     "output_type": "stream",
     "text": [
      "Test data: (10000, 28, 28), (10000,)\n"
     ]
    }
   ],
   "source": [
    "# Exploring the testing  dataset, it should print the shape of the images datasets and the label of the datasets.\n",
    "print(\"Test data: {}, {}\".format(test_images.shape, test_labels.shape))"
   ]
  },
  {
   "cell_type": "code",
   "execution_count": 14,
   "id": "a2203c6d-91f2-4eee-91c2-d943e08a60d8",
   "metadata": {},
   "outputs": [
    {
     "name": "stdout",
     "output_type": "stream",
     "text": [
      "There are 10 classes in the dataset. They are: [0 1 2 3 4 5 6 7 8 9]\n"
     ]
    }
   ],
   "source": [
    "# WHile still exploring the datasets, this count the unique classes classified in the datasets\n",
    "# It also print the label of the classes\n",
    "class_labels = np.unique(train_labels)\n",
    "print(\"There are {} classes in the dataset. They are: {}\".format(len(class_labels), class_labels))"
   ]
  },
  {
   "cell_type": "code",
   "execution_count": 77,
   "id": "83124a6d-aa52-4dc4-8206-eda9fce81956",
   "metadata": {},
   "outputs": [
    {
     "data": {
      "image/png": "[encoded data removed]",
      "text/plain": [
       "<Figure size 800x500 with 3 Axes>"
      ]
     },
     "metadata": {},
     "output_type": "display_data"
    }
   ],
   "source": [
    "#Plotting the datasets to see some of the data point \n",
    "# This determines the size of the shapes\n",
    "plt.figure(figsize=(8, 5))\n",
    "\n",
    "# A subplot here, a datapoint\n",
    "\n",
    "# Syntax is plt.subplot(num_rows, num_cols, plot_index)\n",
    "plt.subplot(1,3,1) \n",
    "plt.imshow(train_images[0]) #datapoint of index 0 from the train_images datasets is called on\n",
    "plt.title(\"Label: {}\".format(train_labels[0]))\n",
    "\n",
    "#Another datapoint for another subplot\n",
    "plt.subplot(1,3,2)\n",
    "plt.imshow(train_images[2500]) #datapoint of index 2500 from the train_images datasets is called on\n",
    "plt.title(\"Label: {}\".format(train_labels[2500]))\n",
    "\n",
    "#Another datapoint for another subplot\n",
    "plt.subplot(1,3,3)\n",
    "plt.imshow(train_images[700]) #datapoint of index 2500 from the train_images datasets is called on\n",
    "plt.title(\"Label: {}\".format(train_labels[700]))\n",
    "\n",
    "#Now to show my graph\n",
    "plt.show()"
   ]
  },
  {
   "cell_type": "code",
   "execution_count": 81,
   "id": "fbdc6b95-ee88-4076-bb78-1fff84f03569",
   "metadata": {},
   "outputs": [
    {
     "data": {
      "image/png": "[encoded data removed]",
      "text/plain": [
       "<Figure size 800x400 with 2 Axes>"
      ]
     },
     "metadata": {},
     "output_type": "display_data"
    }
   ],
   "source": [
    "#Viewing some testing data element\n",
    "\n",
    "plt.figure(figsize=(8,4))\n",
    "\n",
    "#Ploting a datapoint for another subplot\n",
    "\n",
    "# Syntax is plt.subplot(num_rows, num_cols, plot_index)\n",
    "plt.subplot(1,2,1)\n",
    "plt.imshow(test_images[12]) #datapoint of index 12 from the test_images datasets is called on\n",
    "\n",
    "#Another datapoint for another subplot\n",
    "plt.subplot(1,2,2)\n",
    "plt.imshow(test_images[15]) #datapoint of index 12 from the test_images datasets is called on\n",
    "\n",
    "# Now to show our plot\n",
    "plt.show()"
   ]
  },
  {
   "cell_type": "code",
   "execution_count": null,
   "id": "831e064f-33be-4cd5-ad8a-d7fcacf283ba",
   "metadata": {},
   "outputs": [],
   "source": []
  }
 ],
 "metadata": {
  "kernelspec": {
   "display_name": "Python 3 (ipykernel)",
   "language": "python",
   "name": "python3"
  },
  "language_info": {
   "codemirror_mode": {
    "name": "ipython",
    "version": 3
   },
   "file_extension": ".py",
   "mimetype": "text/x-python",
   "name": "python",
   "nbconvert_exporter": "python",
   "pygments_lexer": "ipython3",
   "version": "3.11.5"
  }
 },
 "nbformat": 4,
 "nbformat_minor": 5
}
