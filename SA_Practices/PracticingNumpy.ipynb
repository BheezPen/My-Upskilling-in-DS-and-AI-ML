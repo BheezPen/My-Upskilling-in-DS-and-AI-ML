{
 "cells": [
  {
   "cell_type": "code",
   "execution_count": 1,
   "id": "c714c55d-da5b-411b-8c46-ada6017abd47",
   "metadata": {},
   "outputs": [],
   "source": [
    "#Importing the numpy module\n",
    "import numpy as np #a convention is to import as np"
   ]
  },
  {
   "cell_type": "code",
   "execution_count": 3,
   "id": "3f35a1a1-b151-464c-a5db-46c5ade37730",
   "metadata": {},
   "outputs": [
    {
     "name": "stdout",
     "output_type": "stream",
     "text": [
      "<class 'list'>\n"
     ]
    }
   ],
   "source": [
    "#A NumPy array has a grid of values all of which are of the same data type, mostly integers and floats. \n",
    "#These arrays can also be created from Python lists.\n",
    "example1 = [2,0,2,3] #Like it is here, created an array from python list\n",
    "print(type(example1)) #TO confirm if its created from list\n",
    "#i Used the type function to check the datatype of the value stored in the arrayexample folder which print class list."
   ]
  },
  {
   "cell_type": "code",
   "execution_count": 8,
   "id": "07f009a5-81c7-4d8b-822a-2323ad156fa2",
   "metadata": {},
   "outputs": [
    {
     "name": "stdout",
     "output_type": "stream",
     "text": [
      "<class 'numpy.ndarray'>\n"
     ]
    }
   ],
   "source": [
    "#NumPy has ndarray (i.e the 'nd.array()')as its basic data structure used to handle arrays and matrices. \n",
    "example2 = np.array(example1) #Created another variable to handle the array (list) created earlier \n",
    "print(type(example2)) #This print the data type (data structure) of the example2 variable  which is numpy.ndarray"
   ]
  },
  {
   "cell_type": "code",
   "execution_count": 9,
   "id": "4e89d5e2-a787-4e20-a1ce-49f58d66cb55",
   "metadata": {},
   "outputs": [
    {
     "name": "stdout",
     "output_type": "stream",
     "text": [
      "(4,)\n"
     ]
    }
   ],
   "source": [
    "print(example2.shape)\n",
    "#Using the shape method to print the dimension of the data handling the array.\n",
    "#The result is (4,), i.e it has 1 dimension and the one dimention has 4 element int he array "
   ]
  },
  {
   "cell_type": "code",
   "execution_count": 10,
   "id": "0638f4af-7165-4d8c-91fa-04520540989d",
   "metadata": {},
   "outputs": [
    {
     "name": "stdout",
     "output_type": "stream",
     "text": [
      "int32\n"
     ]
    }
   ],
   "source": [
    "print(example2.dtype) #print the "
   ]
  },
  {
   "cell_type": "code",
   "execution_count": 11,
   "id": "ff7e8a36-f5bf-4c92-b1e3-38e13eddc8f1",
   "metadata": {},
   "outputs": [
    {
     "name": "stdout",
     "output_type": "stream",
     "text": [
      "1\n"
     ]
    }
   ],
   "source": [
    "print(example2.ndim) #Will print the dimension of the example2 with ndim"
   ]
  },
  {
   "cell_type": "code",
   "execution_count": 13,
   "id": "34287022-5535-4a49-86e0-891e48e711b9",
   "metadata": {},
   "outputs": [],
   "source": [
    "#print(help(np)) #THis will print the documentation of the numpy package"
   ]
  },
  {
   "cell_type": "code",
   "execution_count": null,
   "id": "1685af7a-f988-4a68-8792-569c08120b65",
   "metadata": {},
   "outputs": [],
   "source": []
  }
 ],
 "metadata": {
  "kernelspec": {
   "display_name": "Python 3 (ipykernel)",
   "language": "python",
   "name": "python3"
  },
  "language_info": {
   "codemirror_mode": {
    "name": "ipython",
    "version": 3
   },
   "file_extension": ".py",
   "mimetype": "text/x-python",
   "name": "python",
   "nbconvert_exporter": "python",
   "pygments_lexer": "ipython3",
   "version": "3.11.5"
  }
 },
 "nbformat": 4,
 "nbformat_minor": 5
}
